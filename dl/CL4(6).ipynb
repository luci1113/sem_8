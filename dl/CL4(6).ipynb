{
  "nbformat": 4,
  "nbformat_minor": 0,
  "metadata": {
    "colab": {
      "provenance": []
    },
    "kernelspec": {
      "name": "python3",
      "display_name": "Python 3"
    },
    "language_info": {
      "name": "python"
    }
  },
  "cells": [
    {
      "cell_type": "code",
      "execution_count": 18,
      "metadata": {
        "id": "N5ERLG09rtN_"
      },
      "outputs": [],
      "source": [
        "import tensorflow as tf\n",
        "from tensorflow.keras.datasets import imdb\n",
        "from tensorflow.keras.models import Sequential\n",
        "from tensorflow.keras.layers import Embedding, LSTM, Dense\n",
        "from tensorflow.keras.preprocessing.sequence import pad_sequences"
      ]
    },
    {
      "cell_type": "code",
      "source": [
        "# Set the parameters\n",
        "max_features = 10000  # Number of words to consider as features\n",
        "maxlen = 100  # Cut texts after this number of words (among top max_features most common words)\n",
        "batch_size = 32\n"
      ],
      "metadata": {
        "id": "r_4PhNJSr2it"
      },
      "execution_count": 19,
      "outputs": []
    },
    {
      "cell_type": "code",
      "source": [
        "# Load the IMDB dataset\n",
        "(x_train, y_train), (x_test, y_test) = imdb.load_data(num_words=max_features)"
      ],
      "metadata": {
        "id": "LJzHxpLfsAK-"
      },
      "execution_count": 20,
      "outputs": []
    },
    {
      "cell_type": "code",
      "source": [
        "# Pad sequences to have a consistent length for the input to the RNN\n",
        "x_train = pad_sequences(x_train, maxlen=maxlen)\n",
        "x_test = pad_sequences(x_test, maxlen=maxlen)"
      ],
      "metadata": {
        "id": "YoqNLua7wiOk"
      },
      "execution_count": 21,
      "outputs": []
    },
    {
      "cell_type": "code",
      "source": [
        "# Build the RNN model with LSTM\n",
        "model = Sequential()\n",
        "model.add(Embedding(max_features, 128))\n",
        "model.add(LSTM(64, dropout=0.2, recurrent_dropout=0.2))\n",
        "model.add(Dense(1, activation='sigmoid'))"
      ],
      "metadata": {
        "id": "S7pjrR47wlDC"
      },
      "execution_count": 22,
      "outputs": []
    },
    {
      "cell_type": "code",
      "source": [
        "# Compile the model\n",
        "model.compile(loss='binary_crossentropy', optimizer='adam', metrics=['accuracy'])"
      ],
      "metadata": {
        "id": "IqxByZDDvjMA"
      },
      "execution_count": 23,
      "outputs": []
    },
    {
      "cell_type": "code",
      "source": [
        "# Train the model\n",
        "model.fit(x_train, y_train, batch_size=batch_size, epochs=5, validation_data=(x_test, y_test))"
      ],
      "metadata": {
        "colab": {
          "base_uri": "https://localhost:8080/"
        },
        "id": "vLMqi7Rhwr0t",
        "outputId": "4f9c1128-026b-4781-d32b-0e5592fd79b9"
      },
      "execution_count": 24,
      "outputs": [
        {
          "output_type": "stream",
          "name": "stdout",
          "text": [
            "Epoch 1/5\n",
            "782/782 [==============================] - 170s 213ms/step - loss: 0.4173 - accuracy: 0.8036 - val_loss: 0.3970 - val_accuracy: 0.8136\n",
            "Epoch 2/5\n",
            "782/782 [==============================] - 165s 211ms/step - loss: 0.2650 - accuracy: 0.8942 - val_loss: 0.3549 - val_accuracy: 0.8470\n",
            "Epoch 3/5\n",
            "782/782 [==============================] - 154s 197ms/step - loss: 0.1907 - accuracy: 0.9261 - val_loss: 0.4163 - val_accuracy: 0.8374\n",
            "Epoch 4/5\n",
            "782/782 [==============================] - 153s 196ms/step - loss: 0.1409 - accuracy: 0.9468 - val_loss: 0.4702 - val_accuracy: 0.8402\n",
            "Epoch 5/5\n",
            "782/782 [==============================] - 150s 192ms/step - loss: 0.1045 - accuracy: 0.9610 - val_loss: 0.4641 - val_accuracy: 0.8367\n"
          ]
        },
        {
          "output_type": "execute_result",
          "data": {
            "text/plain": [
              "<keras.src.callbacks.History at 0x7fbfdb37ad40>"
            ]
          },
          "metadata": {},
          "execution_count": 24
        }
      ]
    },
    {
      "cell_type": "code",
      "source": [
        "# Evaluate the model\n",
        "score, acc = model.evaluate(x_test, y_test, batch_size=batch_size)\n",
        "print(f'Test score: {score}')\n",
        "print(f'Test accuracy: {acc}')\n"
      ],
      "metadata": {
        "colab": {
          "base_uri": "https://localhost:8080/"
        },
        "id": "6xPhVyIWwuhO",
        "outputId": "b64a22b8-1d5e-4d68-9549-831d56612a32"
      },
      "execution_count": 26,
      "outputs": [
        {
          "output_type": "stream",
          "name": "stdout",
          "text": [
            "782/782 [==============================] - 18s 22ms/step - loss: 0.4641 - accuracy: 0.8367\n",
            "Test score: 0.4641331732273102\n",
            "Test accuracy: 0.836679995059967\n"
          ]
        }
      ]
    },
    {
      "cell_type": "code",
      "source": [],
      "metadata": {
        "id": "vsxsBmNdz3Qf"
      },
      "execution_count": null,
      "outputs": []
    }
  ]
}