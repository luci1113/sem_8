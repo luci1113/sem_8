{
  "nbformat": 4,
  "nbformat_minor": 0,
  "metadata": {
    "colab": {
      "provenance": []
    },
    "kernelspec": {
      "name": "python3",
      "display_name": "Python 3"
    },
    "language_info": {
      "name": "python"
    }
  },
  "cells": [
    {
      "cell_type": "code",
      "execution_count": 2,
      "metadata": {
        "id": "3WaAqucikABw"
      },
      "outputs": [],
      "source": [
        "import tensorflow as tf\n",
        "from tensorflow.keras import datasets, layers, models\n",
        "from tensorflow.keras.optimizers import Adam\n",
        "from tensorflow.keras.preprocessing.image import ImageDataGenerator\n",
        "from sklearn.model_selection import train_test_split\n",
        "import matplotlib.pyplot as plt"
      ]
    },
    {
      "cell_type": "code",
      "source": [
        "# Load and preprocess the MNIST dataset\n",
        "(train_images, train_labels), (test_images, test_labels) = datasets.mnist.load_data()\n",
        "train_images, test_images = train_images / 255.0, test_images / 255.0"
      ],
      "metadata": {
        "colab": {
          "base_uri": "https://localhost:8080/"
        },
        "id": "-68oRzbkkjGP",
        "outputId": "7d34d4a4-a062-42db-f4d3-fc7a1719f6f2"
      },
      "execution_count": 3,
      "outputs": [
        {
          "output_type": "stream",
          "name": "stdout",
          "text": [
            "Downloading data from https://storage.googleapis.com/tensorflow/tf-keras-datasets/mnist.npz\n",
            "11490434/11490434 [==============================] - 0s 0us/step\n"
          ]
        }
      ]
    },
    {
      "cell_type": "code",
      "source": [
        "# Add channel dimension to the images\n",
        "train_images = train_images.reshape((60000, 28, 28, 1))\n",
        "test_images = test_images.reshape((10000, 28, 28, 1))"
      ],
      "metadata": {
        "id": "hHC3vI0WkwZM"
      },
      "execution_count": 4,
      "outputs": []
    },
    {
      "cell_type": "code",
      "source": [
        "# Split the dataset into training and validation sets\n",
        "train_images, val_images, train_labels, val_labels = train_test_split( train_images, train_labels, test_size=0.1, random_state=42)\n"
      ],
      "metadata": {
        "id": "FwVSOoGek0lD"
      },
      "execution_count": 6,
      "outputs": []
    },
    {
      "cell_type": "code",
      "source": [
        "# Data augmentation for training images\n",
        "datagen = ImageDataGenerator(rotation_range=10, zoom_range=0.1, width_shift_range=0.1, height_shift_range=0.1)\n",
        "datagen.fit(train_images)"
      ],
      "metadata": {
        "id": "dbwtMsLCk3nH"
      },
      "execution_count": 7,
      "outputs": []
    },
    {
      "cell_type": "code",
      "source": [
        "from keras import models, layers\n",
        "\n",
        "# Create a CNN model with hyperparameter tuning and regularization\n",
        "model = models.Sequential()\n",
        "model.add(layers.Conv2D(32, (3, 3), activation='relu', input_shape=(28, 28, 1)))\n",
        "model.add(layers.MaxPooling2D((2, 2)))\n",
        "model.add(layers.Conv2D(64, (3, 3), activation='relu'))\n",
        "model.add(layers.MaxPooling2D((2, 2)))\n",
        "model.add(layers.Conv2D(128, (3, 3), activation='relu'))\n",
        "model.add(layers.Flatten())\n",
        "model.add(layers.Dropout(0.5))\n",
        "model.add(layers.Dense(128, activation='relu'))\n",
        "model.add(layers.Dense(10, activation='softmax'))\n"
      ],
      "metadata": {
        "id": "XSP5TDpnlBgA"
      },
      "execution_count": 10,
      "outputs": []
    },
    {
      "cell_type": "code",
      "source": [
        "# Compile the model\n",
        "model.compile(optimizer=Adam(learning_rate=0.001), loss='sparse_categorical_crossentropy', metrics=['accuracy'])"
      ],
      "metadata": {
        "id": "KHzFhKRClGVQ"
      },
      "execution_count": 11,
      "outputs": []
    },
    {
      "cell_type": "code",
      "source": [
        "# Train the model with data augmentation\n",
        "history = model.fit(datagen.flow(train_images, train_labels, batch_size=64),epochs=20, validation_data=(val_images, val_labels))\n"
      ],
      "metadata": {
        "colab": {
          "base_uri": "https://localhost:8080/"
        },
        "id": "2EwXz_r3lbgu",
        "outputId": "29922f61-e179-4143-e9f6-8cd12bf6c15d"
      },
      "execution_count": 12,
      "outputs": [
        {
          "output_type": "stream",
          "name": "stdout",
          "text": [
            "Epoch 1/20\n",
            "760/760 [==============================] - 71s 91ms/step - loss: 0.4121 - accuracy: 0.8675 - val_loss: 0.0660 - val_accuracy: 0.9798\n",
            "Epoch 2/20\n",
            "760/760 [==============================] - 57s 75ms/step - loss: 0.1345 - accuracy: 0.9585 - val_loss: 0.0481 - val_accuracy: 0.9831\n",
            "Epoch 3/20\n",
            "760/760 [==============================] - 57s 75ms/step - loss: 0.1051 - accuracy: 0.9680 - val_loss: 0.0507 - val_accuracy: 0.9843\n",
            "Epoch 4/20\n",
            "760/760 [==============================] - 57s 75ms/step - loss: 0.0815 - accuracy: 0.9748 - val_loss: 0.0370 - val_accuracy: 0.9880\n",
            "Epoch 5/20\n",
            "760/760 [==============================] - 57s 75ms/step - loss: 0.0708 - accuracy: 0.9781 - val_loss: 0.0287 - val_accuracy: 0.9920\n",
            "Epoch 6/20\n",
            "760/760 [==============================] - 56s 74ms/step - loss: 0.0647 - accuracy: 0.9799 - val_loss: 0.0299 - val_accuracy: 0.9902\n",
            "Epoch 7/20\n",
            "760/760 [==============================] - 56s 74ms/step - loss: 0.0615 - accuracy: 0.9810 - val_loss: 0.0307 - val_accuracy: 0.9919\n",
            "Epoch 8/20\n",
            "760/760 [==============================] - 55s 72ms/step - loss: 0.0556 - accuracy: 0.9833 - val_loss: 0.0304 - val_accuracy: 0.9907\n",
            "Epoch 9/20\n",
            "760/760 [==============================] - 56s 74ms/step - loss: 0.0536 - accuracy: 0.9840 - val_loss: 0.0232 - val_accuracy: 0.9926\n",
            "Epoch 10/20\n",
            "760/760 [==============================] - 57s 75ms/step - loss: 0.0504 - accuracy: 0.9849 - val_loss: 0.0376 - val_accuracy: 0.9902\n",
            "Epoch 11/20\n",
            "760/760 [==============================] - 56s 74ms/step - loss: 0.0470 - accuracy: 0.9862 - val_loss: 0.0313 - val_accuracy: 0.9915\n",
            "Epoch 12/20\n",
            "760/760 [==============================] - 55s 72ms/step - loss: 0.0448 - accuracy: 0.9866 - val_loss: 0.0258 - val_accuracy: 0.9924\n",
            "Epoch 13/20\n",
            "760/760 [==============================] - 56s 74ms/step - loss: 0.0431 - accuracy: 0.9872 - val_loss: 0.0238 - val_accuracy: 0.9926\n",
            "Epoch 14/20\n",
            "760/760 [==============================] - 56s 74ms/step - loss: 0.0419 - accuracy: 0.9872 - val_loss: 0.0281 - val_accuracy: 0.9913\n",
            "Epoch 15/20\n",
            "760/760 [==============================] - 56s 74ms/step - loss: 0.0412 - accuracy: 0.9871 - val_loss: 0.0295 - val_accuracy: 0.9920\n",
            "Epoch 16/20\n",
            "760/760 [==============================] - 56s 74ms/step - loss: 0.0373 - accuracy: 0.9886 - val_loss: 0.0325 - val_accuracy: 0.9917\n",
            "Epoch 17/20\n",
            "760/760 [==============================] - 55s 73ms/step - loss: 0.0379 - accuracy: 0.9884 - val_loss: 0.0243 - val_accuracy: 0.9935\n",
            "Epoch 18/20\n",
            "760/760 [==============================] - 56s 74ms/step - loss: 0.0378 - accuracy: 0.9886 - val_loss: 0.0354 - val_accuracy: 0.9911\n",
            "Epoch 19/20\n",
            "760/760 [==============================] - 56s 73ms/step - loss: 0.0341 - accuracy: 0.9894 - val_loss: 0.0283 - val_accuracy: 0.9933\n",
            "Epoch 20/20\n",
            "760/760 [==============================] - 57s 75ms/step - loss: 0.0347 - accuracy: 0.9897 - val_loss: 0.0296 - val_accuracy: 0.9922\n"
          ]
        }
      ]
    },
    {
      "cell_type": "code",
      "source": [
        "# Evaluate the model on the test set\n",
        "test_loss, test_acc = model.evaluate(test_images, test_labels)\n",
        "print(f\"Test Accuracy: {test_acc}\")\n"
      ],
      "metadata": {
        "colab": {
          "base_uri": "https://localhost:8080/"
        },
        "id": "Esep9_nkljV_",
        "outputId": "3ae3be4d-a548-4408-be62-6fc183aed394"
      },
      "execution_count": 13,
      "outputs": [
        {
          "output_type": "stream",
          "name": "stdout",
          "text": [
            "313/313 [==============================] - 3s 11ms/step - loss: 0.0203 - accuracy: 0.9941\n",
            "Test Accuracy: 0.9940999746322632\n"
          ]
        }
      ]
    },
    {
      "cell_type": "code",
      "source": [
        "# Plot training history\n",
        "plt.plot(history.history['accuracy'], label='Train Accuracy')\n",
        "plt.plot(history.history['val_accuracy'], label='Validation Accuracy')\n",
        "plt.xlabel('Epoch')\n",
        "plt.ylabel('Accuracy')\n",
        "plt.legend()\n",
        "plt.show()\n"
      ],
      "metadata": {
        "colab": {
          "base_uri": "https://localhost:8080/",
          "height": 449
        },
        "id": "0MXB4o_flqB9",
        "outputId": "49be2712-0950-4be9-a83d-987807a0c3bb"
      },
      "execution_count": 15,
      "outputs": [
        {
          "output_type": "display_data",
          "data": {
            "text/plain": [
              "<Figure size 640x480 with 1 Axes>"
            ],
            "image/png": "[encoded data removed]"
          },
          "metadata": {}
        }
      ]
    },
    {
      "cell_type": "code",
      "source": [],
      "metadata": {
        "id": "LPbfOUvZroPK"
      },
      "execution_count": null,
      "outputs": []
    }
  ]
}