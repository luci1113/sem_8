{
  "cells": [
    {
      "cell_type": "code",
      "execution_count": 79,
      "metadata": {
        "id": "KAneH5Vuo3Dk"
      },
      "outputs": [],
      "source": [
        "import tensorflow as tf\n",
        "from tensorflow import keras\n",
        "from tensorflow.keras.applications import vgg19\n",
        "from tensorflow.keras.preprocessing import image as keras_image\n",
        "from tensorflow.keras import backend as K\n",
        "import numpy as np\n",
        "import matplotlib.pyplot as plt"
      ]
    },
    {
      "cell_type": "code",
      "execution_count": 80,
      "metadata": {
        "id": "0V5dswbWo39H"
      },
      "outputs": [],
      "source": [
        "\n",
        "def load_and_preprocess_image(image_path, img_height, img_width):\n",
        " img = keras_image.load_img(image_path, target_size=(img_height, img_width))\n",
        " img = keras_image.img_to_array(img)\n",
        " img = np.expand_dims(img, axis=0)\n",
        " img = vgg19.preprocess_input(img)\n",
        " return img"
      ]
    },
    {
      "cell_type": "code",
      "execution_count": 81,
      "metadata": {
        "id": "wWiwnPDCo6BB"
      },
      "outputs": [],
      "source": [
        "\n",
        "def tensor_to_image(tensor):\n",
        " tensor = tensor * 255\n",
        " tensor = np.clip(tensor, 0, 255).astype('uint8')\n",
        " return tensor[0]\n"
      ]
    },
    {
      "cell_type": "code",
      "execution_count": 82,
      "metadata": {
        "id": "8MLu3mw7o_P0"
      },
      "outputs": [],
      "source": [
        "\n",
        "style_image_path = r'content.png'\n",
        "content_image_path = r'content.png'\n",
        "\n",
        "img_height = 400\n",
        "img_width = 400"
      ]
    },
    {
      "cell_type": "code",
      "execution_count": 83,
      "metadata": {
        "id": "g1PJrra_pA_L"
      },
      "outputs": [],
      "source": [
        "# Load style and content images\n",
        "style_image = load_and_preprocess_image(style_image_path, img_height, img_width)\n",
        "content_image = load_and_preprocess_image(content_image_path, img_height, img_width)\n",
        "import tensorflow as tf\n",
        "def style_loss(style_targets, style_outputs):\n",
        " loss = tf.zeros(shape=()) \n",
        " num_layers = len(style_targets) \n",
        " for i in range(num_layers):\n",
        "  target_features = style_targets[i]\n",
        "  output_features = style_outputs[i]\n",
        "\n",
        "  target_gram_matrix = gram_matrix(target_features)\n",
        "  output_gram_matrix = gram_matrix(output_features)\n",
        "\n",
        "  layer_loss = tf.reduce_mean(tf.square(target_gram_matrix - output_gram_matrix))\n",
        "\n",
        "\n",
        "  loss += layer_loss\n",
        "\n",
        "\n",
        " total_loss = loss / float(num_layers)\n",
        "\n",
        " return total_loss"
      ]
    },
    {
      "cell_type": "code",
      "execution_count": 84,
      "metadata": {
        "id": "nS278vQZpD4P"
      },
      "outputs": [],
      "source": [
        "def gram_matrix(tensor):\n",
        " batch_size, height, width, channels = tensor.get_shape().as_list()\n",
        "\n",
        " \n",
        " reshaped_tensor = tf.reshape(tensor, [batch_size * height * width, channels])\n",
        "\n",
        "\n",
        " gram = tf.matmul(reshaped_tensor, reshaped_tensor, transpose_a=True)\n",
        "\n",
        " num_elements = tf.cast(batch_size * height * width * channels, tf.float32)\n",
        " gram /= num_elements\n",
        "\n",
        " return gram\n"
      ]
    },
    {
      "cell_type": "code",
      "execution_count": 85,
      "metadata": {
        "colab": {
          "base_uri": "https://localhost:8080/",
          "height": 406
        },
        "id": "0UPeJmixq6Bc",
        "outputId": "0663115e-8a76-4c80-c855-8e1bb0764796"
      },
      "outputs": [
        {
          "data": {
            "image/png": "[encoded data removed]",
            "text/plain": [
              "<Figure size 640x480 with 1 Axes>"
            ]
          },
          "metadata": {},
          "output_type": "display_data"
        }
      ],
      "source": [
        "\n",
        "generated_image = tf.Variable(content_image, dtype=tf.float32)\n",
        "\n",
        "optimizer = tf.optimizers.Adam(learning_rate=0.02, beta_1=0.99, epsilon=1e-1)\n",
        "\n",
        "final_image = tensor_to_image(generated_image.numpy())\n",
        "\n",
        "plt.imshow(final_image)\n",
        "plt.axis('off')\n",
        "plt.show()\n"
      ]
    },
    {
      "cell_type": "code",
      "execution_count": null,
      "metadata": {
        "id": "caKcSz5Tq-XR"
      },
      "outputs": [],
      "source": []
    }
  ],
  "metadata": {
    "colab": {
      "provenance": [],
      "toc_visible": true
    },
    "kernelspec": {
      "display_name": "Python 3",
      "name": "python3"
    },
    "language_info": {
      "codemirror_mode": {
        "name": "ipython",
        "version": 3
      },
      "file_extension": ".py",
      "mimetype": "text/x-python",
      "name": "python",
      "nbconvert_exporter": "python",
      "pygments_lexer": "ipython3",
      "version": "3.11.5"
    }
  },
  "nbformat": 4,
  "nbformat_minor": 0
}
